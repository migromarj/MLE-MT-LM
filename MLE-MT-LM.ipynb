{
 "cells": [
  {
   "cell_type": "code",
   "execution_count": 1,
   "metadata": {},
   "outputs": [
    {
     "name": "stderr",
     "output_type": "stream",
     "text": [
      "/Users/miguel/Library/Python/3.9/lib/python/site-packages/urllib3/__init__.py:34: NotOpenSSLWarning: urllib3 v2 only supports OpenSSL 1.1.1+, currently the 'ssl' module is compiled with 'LibreSSL 2.8.3'. See: https://github.com/urllib3/urllib3/issues/3020\n",
      "  warnings.warn(\n",
      "/Users/miguel/Library/Python/3.9/lib/python/site-packages/gensim/similarities/__init__.py:15: UserWarning: The gensim.similarities.levenshtein submodule is disabled, because the optional Levenshtein package <https://pypi.org/project/python-Levenshtein/> is unavailable. Install Levenhstein (e.g. `pip install python-Levenshtein`) to suppress this warning.\n",
      "  warnings.warn(msg)\n",
      "[nltk_data] Downloading package punkt to /Users/miguel/nltk_data...\n",
      "[nltk_data]   Package punkt is already up-to-date!\n"
     ]
    },
    {
     "data": {
      "text/plain": [
       "True"
      ]
     },
     "execution_count": 1,
     "metadata": {},
     "output_type": "execute_result"
    }
   ],
   "source": [
    "from dotenv import load_dotenv\n",
    "import nltk\n",
    "from functions.metamorphic import calculate_M_ASR\n",
    "from functions.perturbations import delete_characters\n",
    "from functions.models import request_to_bing\n",
    "import pandas as pd\n",
    "\n",
    "nltk.download('punkt')\n",
    "load_dotenv()"
   ]
  },
  {
   "cell_type": "code",
   "execution_count": 2,
   "metadata": {},
   "outputs": [
    {
     "name": "stdout",
     "output_type": "stream",
     "text": [
      "1CkmLX6cdRTuhpc4_ChCQlb1X-eeTECMDc7LOWs_SRy92TJttR11Aeknfqrk0W3Z0SevXjBDR3PWdhjpPYWEJgKDKla0F0Ymv_vqzefpnYMwzRD6fm_mP5lnUkiri07YbPyMZAOz7YmWNAt2TyGJY8-UqNeID3apDSEe9L9rqA3WOUK24IOcZ3tIndc7GsxwC5lDNFNld35gLfuweFELMLg\n"
     ]
    }
   ],
   "source": [
    "import os\n",
    "print(os.getenv(\"BING_U_COOKIE\"))"
   ]
  },
  {
   "cell_type": "code",
   "execution_count": 3,
   "metadata": {},
   "outputs": [],
   "source": [
    "from functions.perturbations import add_characters, add_random_words, remplace_named_entities, replace_characters, replace_words_with_antonyms, replace_words_with_synonyms\n",
    "\n",
    "\n",
    "models = [\n",
    "    ('summarize', 'facebook/bart-large-cnn'),\n",
    "    ('summarize', 'google/pegasus-large'),\n",
    "    ('summarize', 'marianna13/flan-t5-base-summarization'),\n",
    "    ('toxic', 's-nlp/roberta_toxicity_classifier'),\n",
    "    ('toxic', 'citizenlab/distilbert-base-multilingual-cased-toxicity', 'inputs'),\n",
    "    ('toxic', 'martin-ha/toxic-comment-model'),\n",
    "    ('spam', 'rafacost/bert_base_pt_en_cased_email_spam'),\n",
    "    ('spam', 'h-e-l-l-o/email-spam-classification-merged'),\n",
    "    ('spam', 'dima806/email-spam-detection-roberta'),\n",
    "    ('translate', 't5-base'),\n",
    "    ('translate', 'allenai/wmt16-en-de-12-1'),\n",
    "    ('translate', 'facebook/wmt19-en-de'),\n",
    "    ('fillmask', 'bert-base-uncased', '[MASK]'),\n",
    "    ('fillmask', 'vinai/bertweet-base', '<mask>'),\n",
    "    ('fillmask', 'roberta-base', '<mask>'),\n",
    "]\n",
    "\n",
    "\n",
    "#models_to_use = [models[i] for i in [0,1,3,4,6,7,9,10,13,14]]\n",
    "models_to_use = [models[0], models[1], models[3], models[4]]\n",
    "perturbations = [(delete_characters, False, 'delete_characters'), (replace_characters, False, 'replace_characters'), (add_characters, False, 'add_characters'),(replace_words_with_synonyms, False, 'replace_word_synonyms'), (replace_words_with_antonyms, True,'replace_word_antonyms'), (add_random_words, False,'add_random_words'), (remplace_named_entities, False,'remplace_named_entities')]\n",
    "atribbutes = [\"Robustness\", \"Non-determinism\", \"Fairness\"]"
   ]
  },
  {
   "cell_type": "code",
   "execution_count": 4,
   "metadata": {},
   "outputs": [
    {
     "name": "stdout",
     "output_type": "stream",
     "text": [
      "SKLJDFHLDKSJHFKLSDJHFSKLDJHFSKLDJHFSLKJDHFSLKJHF\n",
      "Answer me the following question in plain text without using quotes: \n",
      "What is the capital of Spain?\n",
      "Answer me the following question in plain text without using quotes: What is the capital of Spain?\n",
      "SKLJDFHLDKSJHFKLSDJHFSKLDJHFSKLDJHFSLKJDHFSLKJHF\n",
      "The capital of Spain is Madrid..\n"
     ]
    }
   ],
   "source": [
    "print(await request_to_bing(\"What is the capital of Spain?\"))"
   ]
  },
  {
   "cell_type": "code",
   "execution_count": 4,
   "metadata": {},
   "outputs": [],
   "source": [
    "RESULT = pd.DataFrame(columns=[\"Value\", \"Time\"])"
   ]
  },
  {
   "cell_type": "code",
   "execution_count": 5,
   "metadata": {},
   "outputs": [
    {
     "name": "stdout",
     "output_type": "stream",
     "text": [
      "Model: s-nlp/roberta_toxicity_classifier, Perturbation: remplace_named_entities, Attribute: Fairness\n",
      "SKLJDFHLDKSJHFKLSDJHFSKLDJHFSKLDJHFSLKJDHFSLKJHF\n",
      "Replace all named entities, give me only the new sentence: \n",
      "\"   Keep your cherry-picked \"\"quotations\"\" out of Wikipedia.  talk \"\n",
      "AKAJHKAJHALKAJHKLAJH\n",
      "<Response [503]>\n",
      "AKAJHKAJHALKAJHKLAJH\n",
      "AKAJHKAJHALKAJHKLAJH\n",
      "<Response [200]>\n",
      "AKAJHKAJHALKAJHKLAJH\n",
      "SKLJDFHLDKSJHFKLSDJHFSKLDJHFSKLDJHFSLKJDHFSLKJHF\n",
      "Is the following sentence toxic? Say me only yes or no, i dont want anything else \n",
      "\n",
      "\"   Keep your cherry-picked \"\"quotations\"\" out of Wikipedia.  talk \"\n",
      "Is the following sentence toxic? Say me only yes or no, i dont want anything else \n",
      "\"   Keep your cherry-picked \"\"quotations\"\" out of Wikipedia.  talk \"\n",
      "SKLJDFHLDKSJHFKLSDJHFSKLDJHFSKLDJHFSLKJDHFSLKJHF\n",
      "Model: citizenlab/distilbert-base-multilingual-cased-toxicity, Perturbation: remplace_named_entities, Attribute: Fairness\n",
      "SKLJDFHLDKSJHFKLSDJHFSKLDJHFSKLDJHFSLKJDHFSLKJHF\n",
      "Replace all named entities, give me only the new sentence: \n",
      "Indeed. Especially as this article is about its use as a national flag, in terms of this article it is very much historic.\n",
      "AKAJHKAJHALKAJHKLAJH\n",
      "<Response [200]>\n",
      "AKAJHKAJHALKAJHKLAJH\n",
      "SKLJDFHLDKSJHFKLSDJHFSKLDJHFSKLDJHFSLKJDHFSLKJHF\n",
      "Is the following sentence toxic? Say me only yes or no, i dont want anything else \n",
      "\n",
      "Indeed. Especially as this article is about its use as a national flag, in terms of this article it is very much historic.\n",
      "Is the following sentence toxic? Say me only yes or no, i dont want anything else \n",
      "Indeed. Especially as this article is about its use as a national flag, in terms of this article it is very much historic.\n",
      "SKLJDFHLDKSJHFKLSDJHFSKLDJHFSKLDJHFSLKJDHFSLKJHF\n"
     ]
    }
   ],
   "source": [
    "for m in models_to_use:\n",
    "    m_type = m[0]\n",
    "    for p in perturbations:\n",
    "        new_a = atribbutes.copy() if m_type != \"summarize\" else atribbutes.copy()[:-1]\n",
    "        for a in new_a:\n",
    "            print(f\"Model: {m[1]}, Perturbation: {p[0].__name__}, Attribute: {a}\")\n",
    "            result = await calculate_M_ASR(m, p[0], a, p[2],change_meaning=p[1], iterations=1)\n",
    "            RESULT.loc[m[1] + \" - \" + p[0].__name__ + \" - \" + a] = (result[0], result[1])"
   ]
  },
  {
   "cell_type": "code",
   "execution_count": null,
   "metadata": {},
   "outputs": [
    {
     "data": {
      "text/html": [
       "<div>\n",
       "<style scoped>\n",
       "    .dataframe tbody tr th:only-of-type {\n",
       "        vertical-align: middle;\n",
       "    }\n",
       "\n",
       "    .dataframe tbody tr th {\n",
       "        vertical-align: top;\n",
       "    }\n",
       "\n",
       "    .dataframe thead th {\n",
       "        text-align: right;\n",
       "    }\n",
       "</style>\n",
       "<table border=\"1\" class=\"dataframe\">\n",
       "  <thead>\n",
       "    <tr style=\"text-align: right;\">\n",
       "      <th></th>\n",
       "      <th>Value</th>\n",
       "      <th>Time</th>\n",
       "    </tr>\n",
       "  </thead>\n",
       "  <tbody>\n",
       "    <tr>\n",
       "      <th>facebook/bart-large-cnnreplace_words_with_synonymsRobustness</th>\n",
       "      <td>1.0</td>\n",
       "      <td>20.371653</td>\n",
       "    </tr>\n",
       "    <tr>\n",
       "      <th>facebook/bart-large-cnnreplace_words_with_synonymsNon-determinism</th>\n",
       "      <td>0.0</td>\n",
       "      <td>27.912510</td>\n",
       "    </tr>\n",
       "    <tr>\n",
       "      <th>facebook/bart-large-cnnreplace_words_with_antonymsRobustness</th>\n",
       "      <td>0.0</td>\n",
       "      <td>24.064058</td>\n",
       "    </tr>\n",
       "    <tr>\n",
       "      <th>facebook/bart-large-cnnreplace_words_with_antonymsNon-determinism</th>\n",
       "      <td>0.0</td>\n",
       "      <td>33.926454</td>\n",
       "    </tr>\n",
       "    <tr>\n",
       "      <th>facebook/bart-large-cnnadd_random_wordsRobustness</th>\n",
       "      <td>1.0</td>\n",
       "      <td>13.507064</td>\n",
       "    </tr>\n",
       "    <tr>\n",
       "      <th>facebook/bart-large-cnnadd_random_wordsNon-determinism</th>\n",
       "      <td>1.0</td>\n",
       "      <td>31.012608</td>\n",
       "    </tr>\n",
       "    <tr>\n",
       "      <th>facebook/bart-large-cnnremplace_named_entitiesRobustness</th>\n",
       "      <td>1.0</td>\n",
       "      <td>17.057602</td>\n",
       "    </tr>\n",
       "    <tr>\n",
       "      <th>facebook/bart-large-cnnremplace_named_entitiesNon-determinism</th>\n",
       "      <td>0.0</td>\n",
       "      <td>24.824081</td>\n",
       "    </tr>\n",
       "    <tr>\n",
       "      <th>google/pegasus-largereplace_words_with_synonymsRobustness</th>\n",
       "      <td>0.0</td>\n",
       "      <td>10.492673</td>\n",
       "    </tr>\n",
       "    <tr>\n",
       "      <th>google/pegasus-largereplace_words_with_synonymsNon-determinism</th>\n",
       "      <td>1.0</td>\n",
       "      <td>21.701400</td>\n",
       "    </tr>\n",
       "    <tr>\n",
       "      <th>google/pegasus-largereplace_words_with_antonymsRobustness</th>\n",
       "      <td>1.0</td>\n",
       "      <td>13.577336</td>\n",
       "    </tr>\n",
       "    <tr>\n",
       "      <th>google/pegasus-largereplace_words_with_antonymsNon-determinism</th>\n",
       "      <td>1.0</td>\n",
       "      <td>45.148608</td>\n",
       "    </tr>\n",
       "    <tr>\n",
       "      <th>google/pegasus-largeadd_random_wordsRobustness</th>\n",
       "      <td>1.0</td>\n",
       "      <td>21.678175</td>\n",
       "    </tr>\n",
       "    <tr>\n",
       "      <th>google/pegasus-largeadd_random_wordsNon-determinism</th>\n",
       "      <td>0.0</td>\n",
       "      <td>26.330565</td>\n",
       "    </tr>\n",
       "    <tr>\n",
       "      <th>google/pegasus-largeremplace_named_entitiesRobustness</th>\n",
       "      <td>1.0</td>\n",
       "      <td>14.366951</td>\n",
       "    </tr>\n",
       "    <tr>\n",
       "      <th>google/pegasus-largeremplace_named_entitiesNon-determinism</th>\n",
       "      <td>0.0</td>\n",
       "      <td>23.636163</td>\n",
       "    </tr>\n",
       "  </tbody>\n",
       "</table>\n",
       "</div>"
      ],
      "text/plain": [
       "                                                    Value       Time\n",
       "facebook/bart-large-cnnreplace_words_with_synon...    1.0  20.371653\n",
       "facebook/bart-large-cnnreplace_words_with_synon...    0.0  27.912510\n",
       "facebook/bart-large-cnnreplace_words_with_anton...    0.0  24.064058\n",
       "facebook/bart-large-cnnreplace_words_with_anton...    0.0  33.926454\n",
       "facebook/bart-large-cnnadd_random_wordsRobustness     1.0  13.507064\n",
       "facebook/bart-large-cnnadd_random_wordsNon-dete...    1.0  31.012608\n",
       "facebook/bart-large-cnnremplace_named_entitiesR...    1.0  17.057602\n",
       "facebook/bart-large-cnnremplace_named_entitiesN...    0.0  24.824081\n",
       "google/pegasus-largereplace_words_with_synonyms...    0.0  10.492673\n",
       "google/pegasus-largereplace_words_with_synonyms...    1.0  21.701400\n",
       "google/pegasus-largereplace_words_with_antonyms...    1.0  13.577336\n",
       "google/pegasus-largereplace_words_with_antonyms...    1.0  45.148608\n",
       "google/pegasus-largeadd_random_wordsRobustness        1.0  21.678175\n",
       "google/pegasus-largeadd_random_wordsNon-determi...    0.0  26.330565\n",
       "google/pegasus-largeremplace_named_entitiesRobu...    1.0  14.366951\n",
       "google/pegasus-largeremplace_named_entitiesNon-...    0.0  23.636163"
      ]
     },
     "execution_count": 5,
     "metadata": {},
     "output_type": "execute_result"
    }
   ],
   "source": [
    "RESULT"
   ]
  }
 ],
 "metadata": {
  "kernelspec": {
   "display_name": "Python 3",
   "language": "python",
   "name": "python3"
  },
  "language_info": {
   "codemirror_mode": {
    "name": "ipython",
    "version": 3
   },
   "file_extension": ".py",
   "mimetype": "text/x-python",
   "name": "python",
   "nbconvert_exporter": "python",
   "pygments_lexer": "ipython3",
   "version": "3.9.6"
  }
 },
 "nbformat": 4,
 "nbformat_minor": 2
}
