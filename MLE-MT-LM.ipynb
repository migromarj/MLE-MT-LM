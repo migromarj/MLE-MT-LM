{
 "cells": [
  {
   "cell_type": "code",
   "execution_count": 3,
   "metadata": {},
   "outputs": [
    {
     "data": {
      "text/plain": [
       "True"
      ]
     },
     "execution_count": 3,
     "metadata": {},
     "output_type": "execute_result"
    }
   ],
   "source": [
    "import os\n",
    "import requests\n",
    "from bardapi import BardCookies\n",
    "from sydney import SydneyClient\n",
    "from dotenv import load_dotenv\n",
    "import markdown\n",
    "import re\n",
    "import random\n",
    "import string\n",
    "\n",
    "load_dotenv()"
   ]
  },
  {
   "cell_type": "code",
   "execution_count": 4,
   "metadata": {},
   "outputs": [],
   "source": [
    "models = [\n",
    "    ('summarize', 'facebook/bart-large-cnn'),\n",
    "    ('summarize', 'google/pegasus-large'),\n",
    "    ('summarize', 'marianna13/flan-t5-base-summarization'),\n",
    "    ('toxic', 's-nlp/roberta_toxicity_classifier'),\n",
    "    ('toxic', 'citizenlab/distilbert-base-multilingual-cased-toxicity', 'inputs'),\n",
    "    ('toxic', 'martin-ha/toxic-comment-model'),\n",
    "    ('spam', 'rafacost/bert_base_pt_en_cased_email_spam'),\n",
    "    ('spam', 'h-e-l-l-o/email-spam-classification-merged'),\n",
    "    ('spam', 'dima806/email-spam-detection-roberta'),\n",
    "    ('translate', 't5-base'),\n",
    "    ('translate', 'allenai/wmt16-en-de-12-1'),\n",
    "    ('translate', 'facebook/wmt19-en-de'),\n",
    "    ('fillmask', 'bert-base-uncased', '[MASK]'),\n",
    "    ('fillmask', 'vinai/bertweet-base', '<mask>'),\n",
    "    ('fillmask', 'roberta-base', '<mask>'),\n",
    "]"
   ]
  },
  {
   "cell_type": "code",
   "execution_count": 5,
   "metadata": {},
   "outputs": [],
   "source": [
    "genres = ['binario', 'no binario', 'transgénero', 'cisgénero', 'agénero']\n",
    "ages = list(range(18, 100)) \n",
    "races = ['caucásica', 'afrodescendiente', 'asiática', 'latina', 'indígena']\n",
    "orientations = ['heterosexual', 'homosexual', 'bisexual', 'asexual', 'pansexual']"
   ]
  },
  {
   "cell_type": "code",
   "execution_count": 6,
   "metadata": {},
   "outputs": [],
   "source": [
    "def request_to_model(model, input):\n",
    "\n",
    "    BASE_URL = \"https://api-inference.huggingface.co/models/\"\n",
    "    headers = {\"Authorization\": f\"Bearer {os.getenv('HUGGING_FACE_API_KEY')}\"}\n",
    "    new_input = input\n",
    "    parameters = {}\n",
    "\n",
    "    if model[0] == 'fillmask':\n",
    "        new_input = input.replace('<mask>', model[2])\n",
    "    elif model[0] == 'translate':\n",
    "        parameters = {\"src_lang\": \"en_XX\", \"tgt_lang\": \"tgt_XX\"}\n",
    "\n",
    "    query = {\"inputs\": new_input, \"wait_for_model\": True, \"parameters\":parameters}\n",
    "\n",
    "    try:\n",
    "        response = requests.post(BASE_URL + model[1], json=query, headers=headers)\n",
    "    except Exception as exception:\n",
    "        print(exception)\n",
    "    \n",
    "    return response.json()"
   ]
  },
  {
   "cell_type": "code",
   "execution_count": 7,
   "metadata": {},
   "outputs": [],
   "source": [
    "def convert_to_plain_text(input_text):\n",
    "    input_text = re.sub(r'\\[\\^\\d+\\^\\]', '', input_text)\n",
    "    plain_text = markdown.markdown(input_text, output_format='html')\n",
    "    plain_text = re.sub(r'<[^>]*>\\s*', '', plain_text)\n",
    "    return plain_text"
   ]
  },
  {
   "cell_type": "code",
   "execution_count": 8,
   "metadata": {},
   "outputs": [],
   "source": [
    "def get_only_answer_bing(input):\n",
    "    indice_inicio = input.find(\":\") \n",
    "    \n",
    "    if indice_inicio != -1:\n",
    "        indice_inicio += 1 \n",
    "\n",
    "        return input[indice_inicio:].strip()\n",
    "    else:\n",
    "        return input"
   ]
  },
  {
   "cell_type": "code",
   "execution_count": 9,
   "metadata": {},
   "outputs": [],
   "source": [
    "def generate_demografic_context():\n",
    "    \n",
    "    genre = random.choice(genres)\n",
    "    age = random.choice(ages)\n",
    "    race = random.choice(races)\n",
    "    orientation = random.choice(orientations)\n",
    "\n",
    "    \n",
    "    frase = f\"The following question has been written by a person of gender {genre}, of {age} years, with orientation {orientation} and of race {race}\"\n",
    "\n",
    "    return frase\n"
   ]
  },
  {
   "cell_type": "code",
   "execution_count": 10,
   "metadata": {},
   "outputs": [],
   "source": [
    "async def request_to_bing(question, type=\"q&a\"):\n",
    "\n",
    "    prompt = \"\"\n",
    "    if (type == \"q&a\"):\n",
    "        prompt = \"Answer me the following question in plain text without using quotes: \"\n",
    "    elif (type == \"change_order\"):\n",
    "        prompt = \"Change the order of the next sentence: \"\n",
    "    elif (type == \"add_random_words\"):\n",
    "        prompt = \"Add random words, do not replace, to the next sentence but don't let the phrase lose its meaning: \"\n",
    "    elif (type == \"remplace_named_entities\"):\n",
    "        prompt = \"Replace all named entities to alter the demographic context of the following sentence, give me only the new sentence: \"\n",
    "    elif (type == \"use_negation\"):\n",
    "        prompt = \"Modify the following sentence using negation, give me only the new sentence: \"\n",
    "    elif (type == \"introducce_demografic_context\"):\n",
    "        demografic_context = generate_demografic_context()\n",
    "        prompt = prompt + demografic_context + \"\\n\"\n",
    "\n",
    "    async with SydneyClient(style=\"precise\") as sydney:\n",
    "        response = await sydney.ask(prompt + question, citations=False)\n",
    "        response = convert_to_plain_text(response)\n",
    "        return response"
   ]
  },
  {
   "cell_type": "code",
   "execution_count": 11,
   "metadata": {},
   "outputs": [],
   "source": [
    "def request_to_bard(question):\n",
    "\n",
    "    cookie_dict = {\n",
    "        \"__Secure-1PSID\": os.getenv('SECURE_1PSID'),\n",
    "        \"__Secure-1PSIDTS\": os.getenv('SECURE_1PSIDTS'),\n",
    "        \"__Secure-1PSIDCC\": os.getenv('SECURE_1PSIDCC'),\n",
    "    }\n",
    "\n",
    "    bard = BardCookies(cookie_dict=cookie_dict)\n",
    "    response = bard.get_answer(question)['content']\n",
    "    return response"
   ]
  },
  {
   "cell_type": "markdown",
   "metadata": {},
   "source": [
    "PERTURBACIONES"
   ]
  },
  {
   "cell_type": "code",
   "execution_count": 12,
   "metadata": {},
   "outputs": [],
   "source": [
    "def replace_characters(input, nivel):\n",
    "    if nivel < 1 or nivel > 10:\n",
    "       return \"Level must be between 1 and 10.\"\n",
    "    \n",
    "    caracteres = list(input)\n",
    "    indices_a_sustituir = [i for i in range(len(caracteres)) if caracteres[i] in string.ascii_letters]\n",
    "    num_caracteres_a_sustituir = int(len(indices_a_sustituir) * nivel / 20)\n",
    "    indices_a_sustituir = random.sample(indices_a_sustituir, num_caracteres_a_sustituir)\n",
    "    \n",
    "    for indice in indices_a_sustituir:\n",
    "        caracteres[indice] = random.choice(string.ascii_letters)\n",
    "    \n",
    "    return ''.join(caracteres)\n"
   ]
  },
  {
   "cell_type": "code",
   "execution_count": 13,
   "metadata": {},
   "outputs": [
    {
     "name": "stdout",
     "output_type": "stream",
     "text": [
      "bello hpw are Jou? It's beBb a whiDe XiSce you anV I Met.\n"
     ]
    }
   ],
   "source": [
    "print(replace_characters(\"Hello how are you? It's been a while since you and I met.\", 5))"
   ]
  },
  {
   "cell_type": "code",
   "execution_count": 14,
   "metadata": {},
   "outputs": [],
   "source": [
    "def add_characters(input, level):\n",
    "    if level < 1 or level > 10:\n",
    "        return \"Level must be between 1 and 10.\"\n",
    "    \n",
    "    characters = list(input)\n",
    "    num_characters_to_add = int(len(characters) * level / 20)\n",
    "    \n",
    "    for _ in range(num_characters_to_add):\n",
    "        index = random.randint(0, len(characters))\n",
    "        characters.insert(index, random.choice(string.ascii_letters))\n",
    "    \n",
    "    return ''.join(characters)\n"
   ]
  },
  {
   "cell_type": "code",
   "execution_count": 15,
   "metadata": {},
   "outputs": [
    {
     "name": "stdout",
     "output_type": "stream",
     "text": [
      "HKeello how are you? Itu's zbCeend a while sinXceV you mCand I metF.\n"
     ]
    }
   ],
   "source": [
    "print(add_characters(\"Hello how are you? It's been a while since you and I met.\", 4))"
   ]
  },
  {
   "cell_type": "code",
   "execution_count": 16,
   "metadata": {},
   "outputs": [],
   "source": [
    "async def add_random_words(input):\n",
    "    response = await request_to_bing(input, \"add_random_words\")\n",
    "    return response"
   ]
  },
  {
   "cell_type": "code",
   "execution_count": 17,
   "metadata": {},
   "outputs": [
    {
     "name": "stdout",
     "output_type": "stream",
     "text": [
      "Hello, how are you doing today? It's been quite a while since the last time you and I had the chance to meet.\n"
     ]
    }
   ],
   "source": [
    "text_random_words = await add_random_words(\"Hello how are you? It's been a while since you and I met.\")\n",
    "print(text_random_words)"
   ]
  },
  {
   "cell_type": "code",
   "execution_count": 18,
   "metadata": {},
   "outputs": [],
   "source": [
    "async def remplace_named_entities(input):\n",
    "    response = await request_to_bing(input, \"remplace_named_entities\")\n",
    "    return get_only_answer_bing(response)"
   ]
  },
  {
   "cell_type": "code",
   "execution_count": 19,
   "metadata": {},
   "outputs": [
    {
     "name": "stdout",
     "output_type": "stream",
     "text": [
      "Akio and Yumi are from Japan. They are 30 years old. They are married. They have three children.\n"
     ]
    }
   ],
   "source": [
    "text_remplace_named_entities = await remplace_named_entities(\"Tomas and Maria are from Spain. They are 20 years old. They are married. They have two children.\")\n",
    "print(text_remplace_named_entities)"
   ]
  },
  {
   "cell_type": "code",
   "execution_count": 20,
   "metadata": {},
   "outputs": [],
   "source": [
    "async def change_order(input):\n",
    "    response = await request_to_bing(input, \"change_order\")\n",
    "    return get_only_answer_bing(response)"
   ]
  },
  {
   "cell_type": "code",
   "execution_count": 21,
   "metadata": {},
   "outputs": [
    {
     "name": "stdout",
     "output_type": "stream",
     "text": [
      "\"It's been a while since you and I met. Hello, how are you?\"\n"
     ]
    }
   ],
   "source": [
    "text_change_order = await change_order(\"Hello how are you? It's been a while since you and I met.\")\n",
    "print(text_change_order)"
   ]
  },
  {
   "cell_type": "code",
   "execution_count": 22,
   "metadata": {},
   "outputs": [],
   "source": [
    "async def use_negation(input):\n",
    "    response = await request_to_bing(input, \"use_negation\")\n",
    "    return get_only_answer_bing(response)"
   ]
  },
  {
   "cell_type": "code",
   "execution_count": 23,
   "metadata": {},
   "outputs": [
    {
     "name": "stdout",
     "output_type": "stream",
     "text": [
      "Hello, how are you? It hasn't been long since you and I met. I don't like to eat pizza.\n"
     ]
    }
   ],
   "source": [
    "text_use_negation = await use_negation(\"Hello how are you? It's been a while since you and I met. I like to eat pizza.\")\n",
    "print(text_use_negation)"
   ]
  },
  {
   "cell_type": "code",
   "execution_count": 24,
   "metadata": {},
   "outputs": [],
   "source": [
    "async def introducce_demografic_context(input):\n",
    "    response = await request_to_bing(input, \"introducce_demografic_context\")\n",
    "    return response"
   ]
  },
  {
   "cell_type": "code",
   "execution_count": 25,
   "metadata": {},
   "outputs": [
    {
     "name": "stdout",
     "output_type": "stream",
     "text": [
      "The capital of Spain is Madrid.\n"
     ]
    }
   ],
   "source": [
    "text_demografic_context = await introducce_demografic_context(\"What is the capital of Spain?\")\n",
    "print(text_demografic_context)"
   ]
  },
  {
   "cell_type": "markdown",
   "metadata": {},
   "source": [
    "PLANTILLAS RELACIONES METAMÓRFICAS\n",
    "models = [\n",
    "    ('summarize', 'facebook/bart-large-cnn'),\n",
    "    ('summarize', 'google/pegasus-large'),\n",
    "    ('summarize', 'marianna13/flan-t5-base-summarization'),\n",
    "    ('toxic', 's-nlp/roberta_toxicity_classifier'),\n",
    "    ('toxic', 'citizenlab/distilbert-base-multilingual-cased-toxicity', 'inputs'),\n",
    "    ('toxic', 'martin-ha/toxic-comment-model'),\n",
    "    ('spam', 'rafacost/bert_base_pt_en_cased_email_spam'),\n",
    "    ('spam', 'h-e-l-l-o/email-spam-classification-merged'),\n",
    "    ('spam', 'dima806/email-spam-detection-roberta'),\n",
    "    ('translate', 't5-base'),\n",
    "    ('translate', 'allenai/wmt16-en-de-12-1'),\n",
    "    ('translate', 'facebook/wmt19-en-de'),\n",
    "    ('fillmask', 'bert-base-uncased', '[MASK]'),\n",
    "    ('fillmask', 'vinai/bertweet-base', '<mask>'),\n",
    "    ('fillmask', 'roberta-base', '<mask>'),\n",
    "]"
   ]
  },
  {
   "cell_type": "code",
   "execution_count": 84,
   "metadata": {},
   "outputs": [],
   "source": [
    "def input_equivalence_mrt(model,original_imput, perturbed_input):\n",
    "    \n",
    "    if (model[0] != 'toxic' and model[0] != 'spam'):\n",
    "        return \"This model is not supported for this test\"\n",
    "     \n",
    "    original_output = request_to_model(model, original_imput)[0][0]['label']\n",
    "    perturbed_output = request_to_model(model, perturbed_input)[0][0]['label']        \n",
    "    \n",
    "    return original_output == perturbed_output"
   ]
  },
  {
   "cell_type": "code",
   "execution_count": 85,
   "metadata": {},
   "outputs": [
    {
     "name": "stdout",
     "output_type": "stream",
     "text": [
      "True\n"
     ]
    }
   ],
   "source": [
    "original_imput = \"You are an idiot\"\n",
    "disturbed_input = add_characters(\"You are an idiot\",2)\n",
    "res = input_equivalence_mrt(models[3], original_imput, disturbed_input)\n",
    "print(res)"
   ]
  }
 ],
 "metadata": {
  "kernelspec": {
   "display_name": "Python 3",
   "language": "python",
   "name": "python3"
  },
  "language_info": {
   "codemirror_mode": {
    "name": "ipython",
    "version": 3
   },
   "file_extension": ".py",
   "mimetype": "text/x-python",
   "name": "python",
   "nbconvert_exporter": "python",
   "pygments_lexer": "ipython3",
   "version": "3.12.0"
  }
 },
 "nbformat": 4,
 "nbformat_minor": 2
}
