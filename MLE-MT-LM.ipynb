{
 "cells": [
  {
   "cell_type": "code",
   "execution_count": 145,
   "metadata": {},
   "outputs": [
    {
     "data": {
      "text/plain": [
       "True"
      ]
     },
     "execution_count": 145,
     "metadata": {},
     "output_type": "execute_result"
    }
   ],
   "source": [
    "import os\n",
    "import requests\n",
    "from dotenv import load_dotenv\n",
    "\n",
    "load_dotenv()"
   ]
  },
  {
   "cell_type": "code",
   "execution_count": 142,
   "metadata": {},
   "outputs": [],
   "source": [
    "models = [\n",
    "    ('summarize', 'facebook/bart-large-cnn'),\n",
    "    ('summarize', 'google/pegasus-large'),\n",
    "    ('summarize', 'marianna13/flan-t5-base-summarization'),\n",
    "    ('toxic', 's-nlp/roberta_toxicity_classifier'),\n",
    "    ('toxic', 'citizenlab/distilbert-base-multilingual-cased-toxicity', 'inputs'),\n",
    "    ('toxic', 'martin-ha/toxic-comment-model'),\n",
    "    ('spam', 'rafacost/bert_base_pt_en_cased_email_spam'),\n",
    "    ('spam', 'h-e-l-l-o/email-spam-classification-merged'),\n",
    "    ('spam', 'dima806/email-spam-detection-roberta'),\n",
    "    ('translate', 't5-base'),\n",
    "    ('translate', 'allenai/wmt16-en-de-12-1'),\n",
    "    ('translate', 'facebook/wmt19-en-de'),\n",
    "    ('fillmask', 'bert-base-uncased', '[MASK]'),\n",
    "    ('fillmask', 'vinai/bertweet-base', '<mask>'),\n",
    "    ('fillmask', 'roberta-base', '<mask>'),\n",
    "]\n",
    "\n",
    "# ('q&a', 'deepset/roberta-base-squad2'),\n",
    "# ('q&a', 'timpal0l/mdeberta-v3-base-squad2'),\n",
    "# ('q&a', 'bert-large-uncased-whole-word-masking-finetuned-squad'),"
   ]
  },
  {
   "cell_type": "code",
   "execution_count": 143,
   "metadata": {},
   "outputs": [],
   "source": [
    "def request_to_model(model, input):\n",
    "\n",
    "    BASE_URL = \"https://api-inference.huggingface.co/models/\"\n",
    "    headers = {\"Authorization\": f\"Bearer {os.getenv('HUGGING_FACE_API_KEY')}\"}\n",
    "    new_input = input\n",
    "    parameters = {}\n",
    "\n",
    "    if model[0] == 'fillmask':\n",
    "        new_input = input.replace('<mask>', model[2])\n",
    "    elif model[0] == 'translate':\n",
    "        parameters = {\"src_lang\": \"en_XX\", \"tgt_lang\": \"tgt_XX\"}\n",
    "\n",
    "    query = {\"inputs\": new_input, \"wait_for_model\": True, \"parameters\":parameters}\n",
    "\n",
    "    try:\n",
    "        response = requests.post(BASE_URL + model[1], json=query, headers=headers)\n",
    "    except Exception as exception:\n",
    "        print(exception)\n",
    "    \n",
    "    return response.json()\n"
   ]
  },
  {
   "cell_type": "code",
   "execution_count": 144,
   "metadata": {},
   "outputs": [
    {
     "name": "stdout",
     "output_type": "stream",
     "text": [
      "[{'translation_text': 'Das Handtuch ist 324 Meter groß.'}]\n"
     ]
    }
   ],
   "source": [
    "res = request_to_model(models[10], \"The tower is 324 metres (1,063 ft) tall\") # \"The goal of life is <mask>.\"\n",
    "print(res)"
   ]
  }
 ],
 "metadata": {
  "kernelspec": {
   "display_name": "Python 3",
   "language": "python",
   "name": "python3"
  },
  "language_info": {
   "codemirror_mode": {
    "name": "ipython",
    "version": 3
   },
   "file_extension": ".py",
   "mimetype": "text/x-python",
   "name": "python",
   "nbconvert_exporter": "python",
   "pygments_lexer": "ipython3",
   "version": "3.11.4"
  }
 },
 "nbformat": 4,
 "nbformat_minor": 2
}
