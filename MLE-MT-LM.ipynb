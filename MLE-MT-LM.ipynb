{
 "cells": [
  {
   "cell_type": "code",
   "execution_count": 1,
   "metadata": {},
   "outputs": [
    {
     "name": "stderr",
     "output_type": "stream",
     "text": [
      "[nltk_data] Downloading package punkt to\n",
      "[nltk_data]     C:\\Users\\tcame\\AppData\\Roaming\\nltk_data...\n",
      "[nltk_data]   Package punkt is already up-to-date!\n"
     ]
    },
    {
     "data": {
      "text/plain": [
       "True"
      ]
     },
     "execution_count": 1,
     "metadata": {},
     "output_type": "execute_result"
    }
   ],
   "source": [
    "from dotenv import load_dotenv\n",
    "import nltk\n",
    "\n",
    "nltk.download('punkt')\n",
    "load_dotenv()"
   ]
  },
  {
   "cell_type": "code",
   "execution_count": 2,
   "metadata": {},
   "outputs": [],
   "source": [
    "models = [\n",
    "    ('summarize', 'facebook/bart-large-cnn'),\n",
    "    ('summarize', 'google/pegasus-large'),\n",
    "    ('summarize', 'marianna13/flan-t5-base-summarization'),\n",
    "    ('toxic', 's-nlp/roberta_toxicity_classifier'),\n",
    "    ('toxic', 'citizenlab/distilbert-base-multilingual-cased-toxicity', 'inputs'),\n",
    "    ('toxic', 'martin-ha/toxic-comment-model'),\n",
    "    ('spam', 'rafacost/bert_base_pt_en_cased_email_spam'),\n",
    "    ('spam', 'h-e-l-l-o/email-spam-classification-merged'),\n",
    "    ('spam', 'dima806/email-spam-detection-roberta'),\n",
    "    ('translate', 't5-base'),\n",
    "    ('translate', 'allenai/wmt16-en-de-12-1'),\n",
    "    ('translate', 'facebook/wmt19-en-de'),\n",
    "    ('fillmask', 'bert-base-uncased', '[MASK]'),\n",
    "    ('fillmask', 'vinai/bertweet-base', '<mask>'),\n",
    "    ('fillmask', 'roberta-base', '<mask>'),\n",
    "]"
   ]
  },
  {
   "cell_type": "code",
   "execution_count": 2,
   "metadata": {},
   "outputs": [
    {
     "name": "stdout",
     "output_type": "stream",
     "text": [
      "The capital of Spain is Madrid..\n"
     ]
    }
   ],
   "source": [
    "from functions.models import request_to_bing\n",
    "\n",
    "\n",
    "print(await request_to_bing(\"What is the capital of Spain?\"))"
   ]
  },
  {
   "cell_type": "code",
   "execution_count": 4,
   "metadata": {},
   "outputs": [
    {
     "name": "stdout",
     "output_type": "stream",
     "text": [
      "Meanwhile, Luke struggles to help Darth Vader back from the dark side without falling into the Emperor's trap.\n",
      "Meanwhile, Luk truggles to help Darth Vader bk rom te dar side withot falling ino the Emeror's ta.\n",
      "47.43416490252569\n",
      "47.43416490252569\n",
      "31.845993300479957\n",
      "40.0\n",
      "When Jason Bourne is framed for a CIA operation gone awry, he is forced to resume his former life as a trained assassin to survive.\n",
      "When Jason Bourne is framed fo a IA operation gone awry, he is force to resume hs fomer ife as a traied assassin suv tov.\n",
      "65.4330305081576\n",
      "65.43303050815756\n",
      "49.58220311157932\n",
      "60.75304364080837\n",
      "Adaptation of James Jones' autobiographical 1962 novel, focusing on the conflict at Guadalcanal during the second World War.\n",
      "Adptation of Jame Jnes' autobiogaphical 1962 novel, fcusing on the confict at Guadalcal during th second Worl War.\n",
      "52.70462766947299\n",
      "52.70462766947299\n",
      "36.6494838384235\n",
      "55.90169943749474\n",
      "space program.\n",
      "space progra.\n",
      "49.999999999999986\n",
      "50.000000000000014\n",
      "33.609692727625756\n",
      "50.000000000000014\n",
      "Frankenstein, goaded by an even madder scientist, builds his monster a mate.\n",
      "Frankensin, goaded by an ven mader scienist, builds his monster a ate.\n",
      "54.545454545454554\n",
      "54.545454545454554\n",
      "37.79132184330249\n",
      "50.251890762960606\n",
      "(0.8, 43.39377546310425)\n"
     ]
    }
   ],
   "source": [
    "from functions.metamorphic import calculate_M_ASR\n",
    "from functions.perturbations import delete_characters\n",
    "summarize_robutness_1 = await calculate_M_ASR(models[1], delete_characters,\"Robustness\")\n",
    "print(summarize_robutness_1)"
   ]
  }
 ],
 "metadata": {
  "kernelspec": {
   "display_name": "Python 3",
   "language": "python",
   "name": "python3"
  },
  "language_info": {
   "codemirror_mode": {
    "name": "ipython",
    "version": 3
   },
   "file_extension": ".py",
   "mimetype": "text/x-python",
   "name": "python",
   "nbconvert_exporter": "python",
   "pygments_lexer": "ipython3",
   "version": "3.9.13"
  }
 },
 "nbformat": 4,
 "nbformat_minor": 2
}
