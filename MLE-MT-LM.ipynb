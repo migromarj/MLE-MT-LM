{
 "cells": [
  {
   "cell_type": "code",
   "execution_count": 12,
   "metadata": {},
   "outputs": [
    {
     "data": {
      "text/plain": [
       "True"
      ]
     },
     "execution_count": 12,
     "metadata": {},
     "output_type": "execute_result"
    }
   ],
   "source": [
    "import os\n",
    "import requests\n",
    "from bardapi import BardCookies\n",
    "from sydney import SydneyClient\n",
    "from dotenv import load_dotenv\n",
    "import markdown\n",
    "import re\n",
    "import random\n",
    "import string\n",
    "\n",
    "load_dotenv()"
   ]
  },
  {
   "cell_type": "code",
   "execution_count": 2,
   "metadata": {},
   "outputs": [],
   "source": [
    "models = [\n",
    "    ('summarize', 'facebook/bart-large-cnn'),\n",
    "    ('summarize', 'google/pegasus-large'),\n",
    "    ('summarize', 'marianna13/flan-t5-base-summarization'),\n",
    "    ('toxic', 's-nlp/roberta_toxicity_classifier'),\n",
    "    ('toxic', 'citizenlab/distilbert-base-multilingual-cased-toxicity', 'inputs'),\n",
    "    ('toxic', 'martin-ha/toxic-comment-model'),\n",
    "    ('spam', 'rafacost/bert_base_pt_en_cased_email_spam'),\n",
    "    ('spam', 'h-e-l-l-o/email-spam-classification-merged'),\n",
    "    ('spam', 'dima806/email-spam-detection-roberta'),\n",
    "    ('translate', 't5-base'),\n",
    "    ('translate', 'allenai/wmt16-en-de-12-1'),\n",
    "    ('translate', 'facebook/wmt19-en-de'),\n",
    "    ('fillmask', 'bert-base-uncased', '[MASK]'),\n",
    "    ('fillmask', 'vinai/bertweet-base', '<mask>'),\n",
    "    ('fillmask', 'roberta-base', '<mask>'),\n",
    "]"
   ]
  },
  {
   "cell_type": "code",
   "execution_count": 3,
   "metadata": {},
   "outputs": [],
   "source": [
    "def request_to_model(model, input):\n",
    "\n",
    "    BASE_URL = \"https://api-inference.huggingface.co/models/\"\n",
    "    headers = {\"Authorization\": f\"Bearer {os.getenv('HUGGING_FACE_API_KEY')}\"}\n",
    "    new_input = input\n",
    "    parameters = {}\n",
    "\n",
    "    if model[0] == 'fillmask':\n",
    "        new_input = input.replace('<mask>', model[2])\n",
    "    elif model[0] == 'translate':\n",
    "        parameters = {\"src_lang\": \"en_XX\", \"tgt_lang\": \"tgt_XX\"}\n",
    "\n",
    "    query = {\"inputs\": new_input, \"wait_for_model\": True, \"parameters\":parameters}\n",
    "\n",
    "    try:\n",
    "        response = requests.post(BASE_URL + model[1], json=query, headers=headers)\n",
    "    except Exception as exception:\n",
    "        print(exception)\n",
    "    \n",
    "    return response.json()"
   ]
  },
  {
   "cell_type": "code",
   "execution_count": 4,
   "metadata": {},
   "outputs": [
    {
     "name": "stdout",
     "output_type": "stream",
     "text": [
      "[{'translation_text': 'Das Handtuch ist 324 Meter groß.'}]\n"
     ]
    }
   ],
   "source": [
    "res = request_to_model(models[10], \"The tower is 324 metres (1,063 ft) tall\") # \"The goal of life is <mask>.\"\n",
    "print(res)"
   ]
  },
  {
   "cell_type": "code",
   "execution_count": 5,
   "metadata": {},
   "outputs": [],
   "source": [
    "def convert_to_plain_text(input_text):\n",
    "    input_text = re.sub(r'\\[\\^\\d+\\^\\]', '', input_text)\n",
    "    plain_text = markdown.markdown(input_text, output_format='html')\n",
    "    plain_text = re.sub(r'<[^>]*>\\s*', '', plain_text)\n",
    "    return plain_text"
   ]
  },
  {
   "cell_type": "code",
   "execution_count": 6,
   "metadata": {},
   "outputs": [],
   "source": [
    "async def request_to_bing(question, type=\"q&a\"):\n",
    "\n",
    "    prompt = \"\"\n",
    "\n",
    "    if (type == \"q&a\"):\n",
    "        prompt = \"Answer me the following question in plain text without using quotes: \"\n",
    "    elif (type == \"change_order\"):\n",
    "        prompt = \"Change the order of the next sentence: \"\n",
    "\n",
    "    async with SydneyClient() as sydney:\n",
    "        response = await sydney.ask(prompt + question, citations=False)\n",
    "        response = convert_to_plain_text(response)\n",
    "        return response"
   ]
  },
  {
   "cell_type": "code",
   "execution_count": 7,
   "metadata": {},
   "outputs": [
    {
     "name": "stdout",
     "output_type": "stream",
     "text": [
      "Bing Chat was released in February 2023.\n"
     ]
    }
   ],
   "source": [
    "response = await request_to_bing(\"When was Bing Chat released?\")\n",
    "print(response)"
   ]
  },
  {
   "cell_type": "code",
   "execution_count": 8,
   "metadata": {},
   "outputs": [
    {
     "name": "stdout",
     "output_type": "stream",
     "text": [
      "Sure, I can help you with that. Here's the reordered sentence: \"I live in Spain. How many people live in Berlin?\"..\n"
     ]
    }
   ],
   "source": [
    "response = await request_to_bing(\"How many people live in Berlin? I live in Spain\", \"change_order\")\n",
    "print(response)"
   ]
  },
  {
   "cell_type": "code",
   "execution_count": 9,
   "metadata": {},
   "outputs": [],
   "source": [
    "def request_to_bard(question):\n",
    "\n",
    "    cookie_dict = {\n",
    "        \"__Secure-1PSID\": os.getenv('SECURE_1PSID'),\n",
    "        \"__Secure-1PSIDTS\": os.getenv('SECURE_1PSIDTS'),\n",
    "        \"__Secure-1PSIDCC\": os.getenv('SECURE_1PSIDCC'),\n",
    "    }\n",
    "\n",
    "    bard = BardCookies(cookie_dict=cookie_dict)\n",
    "    response = bard.get_answer(question)['content']\n",
    "    return response"
   ]
  },
  {
   "cell_type": "code",
   "execution_count": null,
   "metadata": {},
   "outputs": [],
   "source": [
    "print(request_to_bard(\"When was Bard released?\"))"
   ]
  },
  {
   "cell_type": "markdown",
   "metadata": {},
   "source": [
    "### 1. Perturbaciones"
   ]
  },
  {
   "cell_type": "markdown",
   "metadata": {},
   "source": [
    "#### 1.1. Perturbación a nivel de caracteres"
   ]
  },
  {
   "cell_type": "markdown",
   "metadata": {},
   "source": [
    "##### 1.1.1. Borrado de caracteres"
   ]
  },
  {
   "cell_type": "code",
   "execution_count": 42,
   "metadata": {},
   "outputs": [],
   "source": [
    "def delete_characters(input, level):\n",
    "    if level < 1 or level > 10:\n",
    "        return \"Level must be between 1 and 10.\"\n",
    "\n",
    "    characters = list(input)\n",
    "    indexes_to_delete = [i for i in range(len(characters)) if characters[i] in string.ascii_letters]\n",
    "    num_characters_to_delete = int(len(indexes_to_delete) * level / 20)\n",
    "    indexes_to_delete = random.sample(indexes_to_delete, num_characters_to_delete)\n",
    "\n",
    "    for i in sorted(indexes_to_delete, reverse=True):\n",
    "        del characters[i]\n",
    "\n",
    "    return ''.join(characters)"
   ]
  },
  {
   "cell_type": "code",
   "execution_count": 50,
   "metadata": {},
   "outputs": [
    {
     "name": "stdout",
     "output_type": "stream",
     "text": [
      "Eta es una cadea de ejemlo.\n"
     ]
    }
   ],
   "source": [
    "# Example of use\n",
    "input_text = \"Esta es una cadena de ejemplo.\"\n",
    "level = 3\n",
    "res = delete_characters(input_text, level)\n",
    "print(res)"
   ]
  }
 ],
 "metadata": {
  "kernelspec": {
   "display_name": "Python 3",
   "language": "python",
   "name": "python3"
  },
  "language_info": {
   "codemirror_mode": {
    "name": "ipython",
    "version": 3
   },
   "file_extension": ".py",
   "mimetype": "text/x-python",
   "name": "python",
   "nbconvert_exporter": "python",
   "pygments_lexer": "ipython3",
   "version": "3.9.6"
  }
 },
 "nbformat": 4,
 "nbformat_minor": 2
}
