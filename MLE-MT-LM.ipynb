{
 "cells": [
  {
   "cell_type": "code",
   "execution_count": 1,
   "metadata": {},
   "outputs": [
    {
     "name": "stderr",
     "output_type": "stream",
     "text": [
      "c:\\Users\\tcame\\AppData\\Local\\Programs\\Python\\Python39\\lib\\site-packages\\gensim\\similarities\\__init__.py:15: UserWarning: The gensim.similarities.levenshtein submodule is disabled, because the optional Levenshtein package <https://pypi.org/project/python-Levenshtein/> is unavailable. Install Levenhstein (e.g. `pip install python-Levenshtein`) to suppress this warning.\n",
      "  warnings.warn(msg)\n"
     ]
    }
   ],
   "source": [
    "from dotenv import load_dotenv\n",
    "load_dotenv()\n",
    "from functions.disturbances import (\n",
    "    replace_characters,\n",
    "    add_characters,\n",
    "    add_random_words,\n",
    "    remplace_named_entities,\n",
    "    change_order,\n",
    "    use_negation,\n",
    "    introducce_demografic_context\n",
    ")\n",
    "from functions.utils import request_to_bard, request_to_bing\n",
    "from functions.metamorphic import (\n",
    "    input_equivalence_mrt,\n",
    "    equivalence_set_mrt,\n",
    "    get_distance_answers,\n",
    "    distance_set_mrt\n",
    ")\n",
    "    \n",
    "    "
   ]
  },
  {
   "cell_type": "code",
   "execution_count": 2,
   "metadata": {},
   "outputs": [],
   "source": [
    "models = [\n",
    "    ('summarize', 'facebook/bart-large-cnn'),\n",
    "    ('summarize', 'google/pegasus-large'),\n",
    "    ('summarize', 'marianna13/flan-t5-base-summarization'),\n",
    "    ('toxic', 's-nlp/roberta_toxicity_classifier'),\n",
    "    ('toxic', 'citizenlab/distilbert-base-multilingual-cased-toxicity', 'inputs'),\n",
    "    ('toxic', 'martin-ha/toxic-comment-model'),\n",
    "    ('spam', 'rafacost/bert_base_pt_en_cased_email_spam'),\n",
    "    ('spam', 'h-e-l-l-o/email-spam-classification-merged'),\n",
    "    ('spam', 'dima806/email-spam-detection-roberta'),\n",
    "    ('translate', 't5-base'),\n",
    "    ('translate', 'allenai/wmt16-en-de-12-1'),\n",
    "    ('translate', 'facebook/wmt19-en-de'),\n",
    "    ('fillmask', 'bert-base-uncased', '[MASK]'),\n",
    "    ('fillmask', 'vinai/bertweet-base', '<mask>'),\n",
    "    ('fillmask', 'roberta-base', '<mask>'),\n",
    "]"
   ]
  },
  {
   "cell_type": "markdown",
   "metadata": {},
   "source": [
    "COMPROBAR QUE BARD FUNCIONA"
   ]
  },
  {
   "cell_type": "code",
   "execution_count": 3,
   "metadata": {},
   "outputs": [
    {
     "name": "stdout",
     "output_type": "stream",
     "text": [
      "Madrid\n"
     ]
    }
   ],
   "source": [
    "print(request_to_bard(\"What is the capital of Spain?\"))"
   ]
  },
  {
   "cell_type": "markdown",
   "metadata": {},
   "source": [
    "COMPROAR QUE BING FUNCIONA"
   ]
  },
  {
   "cell_type": "code",
   "execution_count": 4,
   "metadata": {},
   "outputs": [
    {
     "name": "stdout",
     "output_type": "stream",
     "text": [
      "The capital of Spain is Madrid..\n"
     ]
    }
   ],
   "source": [
    "print(await request_to_bing(\"What is the capital of Spain?\"))"
   ]
  },
  {
   "cell_type": "markdown",
   "metadata": {},
   "source": [
    "PERTURBACIONES"
   ]
  },
  {
   "cell_type": "code",
   "execution_count": 5,
   "metadata": {},
   "outputs": [
    {
     "name": "stdout",
     "output_type": "stream",
     "text": [
      "TelSo hdw are Rou? Qt's been a while since yqR LnE I met.\n"
     ]
    }
   ],
   "source": [
    "print(replace_characters(\"Hello how are you? It's been a while since you and I met.\", 5))"
   ]
  },
  {
   "cell_type": "code",
   "execution_count": 6,
   "metadata": {},
   "outputs": [
    {
     "name": "stdout",
     "output_type": "stream",
     "text": [
      "Heljlo hXowl iare yYou? chIt's been a whiBle since yAou andI EI met.\n"
     ]
    }
   ],
   "source": [
    "print(add_characters(\"Hello how are you? It's been a while since you and I met.\", 4))"
   ]
  },
  {
   "cell_type": "code",
   "execution_count": 29,
   "metadata": {},
   "outputs": [
    {
     "name": "stdout",
     "output_type": "stream",
     "text": [
      "Hello, this is Bing. I'm an AI and don't have feelings, but I'm here to help you. Yes, it seems like it's been a while. How can I assist you today?\n"
     ]
    }
   ],
   "source": [
    "text_random_words = await add_random_words(\"Hello how are you? It's been a while since you and I met.\")\n",
    "print(text_random_words)"
   ]
  },
  {
   "cell_type": "code",
   "execution_count": 9,
   "metadata": {},
   "outputs": [
    {
     "name": "stdout",
     "output_type": "stream",
     "text": [
      "Tomas and Maria are a married couple from Spain. Both of them are 20 years old and they have two children.\n"
     ]
    }
   ],
   "source": [
    "text_remplace_named_entities = await remplace_named_entities(\"Tomas and Maria are from Spain. They are 20 years old. They are married. They have two children.\")\n",
    "print(text_remplace_named_entities)"
   ]
  },
  {
   "cell_type": "code",
   "execution_count": 27,
   "metadata": {},
   "outputs": [
    {
     "name": "stdout",
     "output_type": "stream",
     "text": [
      "Yes, it is a question.\n"
     ]
    }
   ],
   "source": [
    "text_change_order = await change_order(\"is this a question?\")\n",
    "print(text_change_order)"
   ]
  },
  {
   "cell_type": "code",
   "execution_count": 30,
   "metadata": {},
   "outputs": [
    {
     "name": "stdout",
     "output_type": "stream",
     "text": [
      "Hello, I'm here to assist you. It's true that we haven't interacted in a while. It's great to hear that you enjoy eating pizza. How can I assist you further?\n"
     ]
    }
   ],
   "source": [
    "text_use_negation = await use_negation(\"Hello how are you? It's been a while since you and I met. I like to eat pizza.\")\n",
    "print(text_use_negation)"
   ]
  },
  {
   "cell_type": "code",
   "execution_count": 12,
   "metadata": {},
   "outputs": [
    {
     "name": "stdout",
     "output_type": "stream",
     "text": [
      "The capital of Spain is Madrid..\n"
     ]
    }
   ],
   "source": [
    "text_demografic_context = await introducce_demografic_context(\"What is the capital of Spain?\")\n",
    "print(text_demografic_context)"
   ]
  },
  {
   "cell_type": "markdown",
   "metadata": {},
   "source": [
    "PLANTILLAS RELACIONES METAMÓRFICAS"
   ]
  },
  {
   "cell_type": "code",
   "execution_count": 25,
   "metadata": {},
   "outputs": [
    {
     "name": "stdout",
     "output_type": "stream",
     "text": [
      "True\n"
     ]
    }
   ],
   "source": [
    "original_imput = \"You are an idiot\"\n",
    "disturbed_input = add_characters(\"You are an idiot\",2)\n",
    "res = input_equivalence_mrt(models[3], original_imput, disturbed_input)\n",
    "print(res)"
   ]
  },
  {
   "cell_type": "code",
   "execution_count": 16,
   "metadata": {},
   "outputs": [
    {
     "name": "stdout",
     "output_type": "stream",
     "text": [
      "False\n"
     ]
    }
   ],
   "source": [
    "print(await equivalence_set_mrt(models[8], \"Buy a car in my store and get a 20 discount\"))"
   ]
  },
  {
   "cell_type": "code",
   "execution_count": 19,
   "metadata": {},
   "outputs": [
    {
     "name": "stdout",
     "output_type": "stream",
     "text": [
      "83.5\n"
     ]
    }
   ],
   "source": [
    "texto1 = \"Hola que tal\"\n",
    "texto2 = \"Hola que tal estas\"\n",
    "print(await get_distance_answers(texto1,texto2,0))"
   ]
  },
  {
   "cell_type": "code",
   "execution_count": 42,
   "metadata": {},
   "outputs": [
    {
     "ename": "Exception",
     "evalue": "Response status code is not 200. Response Status is 404",
     "output_type": "error",
     "traceback": [
      "\u001b[1;31m---------------------------------------------------------------------------\u001b[0m",
      "\u001b[1;31mException\u001b[0m                                 Traceback (most recent call last)",
      "Cell \u001b[1;32mIn[42], line 1\u001b[0m\n\u001b[1;32m----> 1\u001b[0m res \u001b[38;5;241m=\u001b[39m \u001b[38;5;28;01mawait\u001b[39;00m distance_set_mrt(models[\u001b[38;5;241m9\u001b[39m], \u001b[38;5;124m\"\u001b[39m\u001b[38;5;124mWhat is the capital of Spain?\u001b[39m\u001b[38;5;124m\"\u001b[39m)\n\u001b[0;32m      2\u001b[0m \u001b[38;5;28mprint\u001b[39m(res)\n",
      "Cell \u001b[1;32mIn[39], line 8\u001b[0m, in \u001b[0;36mdistance_set_mrt\u001b[1;34m(model, original_input, mode, threshold)\u001b[0m\n\u001b[0;32m      6\u001b[0m output_original_input \u001b[38;5;241m=\u001b[39m request_to_model(model, original_input)\n\u001b[0;32m      7\u001b[0m bing_output \u001b[38;5;241m=\u001b[39m \u001b[38;5;28;01mawait\u001b[39;00m request_to_bing(original_input, model[\u001b[38;5;241m0\u001b[39m])\n\u001b[1;32m----> 8\u001b[0m bard_output \u001b[38;5;241m=\u001b[39m \u001b[43mrequest_to_bard\u001b[49m\u001b[43m(\u001b[49m\u001b[43moriginal_input\u001b[49m\u001b[43m,\u001b[49m\u001b[43m \u001b[49m\u001b[43mmodel\u001b[49m\u001b[43m[\u001b[49m\u001b[38;5;241;43m0\u001b[39;49m\u001b[43m]\u001b[49m\u001b[43m)\u001b[49m\n\u001b[0;32m      9\u001b[0m output_original_input \u001b[38;5;241m=\u001b[39m \u001b[38;5;28mnext\u001b[39m(\u001b[38;5;28miter\u001b[39m(output_original_input[\u001b[38;5;241m0\u001b[39m]\u001b[38;5;241m.\u001b[39mvalues()))\n\u001b[0;32m     10\u001b[0m \u001b[38;5;28;01mif\u001b[39;00m (mode \u001b[38;5;241m==\u001b[39m \u001b[38;5;241m0\u001b[39m):\n",
      "Cell \u001b[1;32mIn[10], line 19\u001b[0m, in \u001b[0;36mrequest_to_bard\u001b[1;34m(question, question2, type)\u001b[0m\n\u001b[0;32m     16\u001b[0m \u001b[38;5;28;01melif\u001b[39;00m (\u001b[38;5;28mtype\u001b[39m \u001b[38;5;241m==\u001b[39m \u001b[38;5;124m\"\u001b[39m\u001b[38;5;124mcompare\u001b[39m\u001b[38;5;124m\"\u001b[39m):\n\u001b[0;32m     17\u001b[0m     prompt \u001b[38;5;241m=\u001b[39m \u001b[38;5;124m\"\u001b[39m\u001b[38;5;124mCompare the following sentences and give me only the \u001b[39m\u001b[38;5;124m%\u001b[39m\u001b[38;5;124m number of similarity, i dont want anyting else: \u001b[39m\u001b[38;5;124m\"\u001b[39m \u001b[38;5;241m+\u001b[39m \u001b[38;5;124m\"\u001b[39m\u001b[38;5;130;01m\\n\u001b[39;00m\u001b[38;5;124m\"\u001b[39m\n\u001b[1;32m---> 19\u001b[0m bard \u001b[38;5;241m=\u001b[39m \u001b[43mBardCookies\u001b[49m\u001b[43m(\u001b[49m\u001b[43mcookie_dict\u001b[49m\u001b[38;5;241;43m=\u001b[39;49m\u001b[43mcookie_dict\u001b[49m\u001b[43m)\u001b[49m\n\u001b[0;32m     20\u001b[0m \u001b[38;5;28;01mif\u001b[39;00m (\u001b[38;5;28mtype\u001b[39m \u001b[38;5;241m==\u001b[39m \u001b[38;5;124m\"\u001b[39m\u001b[38;5;124mcompare\u001b[39m\u001b[38;5;124m\"\u001b[39m):\n\u001b[0;32m     21\u001b[0m     response \u001b[38;5;241m=\u001b[39m bard\u001b[38;5;241m.\u001b[39mget_answer(prompt \u001b[38;5;241m+\u001b[39m question \u001b[38;5;241m+\u001b[39m \u001b[38;5;124m\"\u001b[39m\u001b[38;5;130;01m\\n\u001b[39;00m\u001b[38;5;124m\"\u001b[39m \u001b[38;5;241m+\u001b[39m question2)[\u001b[38;5;124m'\u001b[39m\u001b[38;5;124mcontent\u001b[39m\u001b[38;5;124m'\u001b[39m]\n",
      "File \u001b[1;32mc:\\Users\\tcame\\AppData\\Local\\Programs\\Python\\Python39\\lib\\site-packages\\bardapi\\core_cookies.py:53\u001b[0m, in \u001b[0;36mBardCookies.__init__\u001b[1;34m(self, cookie_dict, timeout, proxies, session, conversation_id, google_translator_api_key, language, run_code, token_from_browser)\u001b[0m\n\u001b[0;32m     51\u001b[0m \u001b[38;5;28mself\u001b[39m\u001b[38;5;241m.\u001b[39mchoice_id \u001b[38;5;241m=\u001b[39m \u001b[38;5;124m\"\u001b[39m\u001b[38;5;124m\"\u001b[39m\n\u001b[0;32m     52\u001b[0m \u001b[38;5;28mself\u001b[39m\u001b[38;5;241m.\u001b[39msession \u001b[38;5;241m=\u001b[39m \u001b[38;5;28mself\u001b[39m\u001b[38;5;241m.\u001b[39m_get_session(session)\n\u001b[1;32m---> 53\u001b[0m \u001b[38;5;28mself\u001b[39m\u001b[38;5;241m.\u001b[39mSNlM0e \u001b[38;5;241m=\u001b[39m \u001b[38;5;28;43mself\u001b[39;49m\u001b[38;5;241;43m.\u001b[39;49m\u001b[43m_get_snim0e\u001b[49m\u001b[43m(\u001b[49m\u001b[43m)\u001b[49m\n\u001b[0;32m     54\u001b[0m \u001b[38;5;28mself\u001b[39m\u001b[38;5;241m.\u001b[39mlanguage \u001b[38;5;241m=\u001b[39m language \u001b[38;5;129;01mor\u001b[39;00m os\u001b[38;5;241m.\u001b[39mgetenv(\u001b[38;5;124m\"\u001b[39m\u001b[38;5;124m_BARD_API_LANG\u001b[39m\u001b[38;5;124m\"\u001b[39m)\n\u001b[0;32m     55\u001b[0m \u001b[38;5;28mself\u001b[39m\u001b[38;5;241m.\u001b[39mrun_code \u001b[38;5;241m=\u001b[39m run_code \u001b[38;5;129;01mor\u001b[39;00m \u001b[38;5;28;01mFalse\u001b[39;00m\n",
      "File \u001b[1;32mc:\\Users\\tcame\\AppData\\Local\\Programs\\Python\\Python39\\lib\\site-packages\\bardapi\\core_cookies.py:114\u001b[0m, in \u001b[0;36mBardCookies._get_snim0e\u001b[1;34m(self)\u001b[0m\n\u001b[0;32m    110\u001b[0m resp \u001b[38;5;241m=\u001b[39m \u001b[38;5;28mself\u001b[39m\u001b[38;5;241m.\u001b[39msession\u001b[38;5;241m.\u001b[39mget(\n\u001b[0;32m    111\u001b[0m     \u001b[38;5;124m\"\u001b[39m\u001b[38;5;124mhttps://bard.google.com/\u001b[39m\u001b[38;5;124m\"\u001b[39m, timeout\u001b[38;5;241m=\u001b[39m\u001b[38;5;28mself\u001b[39m\u001b[38;5;241m.\u001b[39mtimeout, proxies\u001b[38;5;241m=\u001b[39m\u001b[38;5;28mself\u001b[39m\u001b[38;5;241m.\u001b[39mproxies\n\u001b[0;32m    112\u001b[0m )\n\u001b[0;32m    113\u001b[0m \u001b[38;5;28;01mif\u001b[39;00m resp\u001b[38;5;241m.\u001b[39mstatus_code \u001b[38;5;241m!=\u001b[39m \u001b[38;5;241m200\u001b[39m:\n\u001b[1;32m--> 114\u001b[0m     \u001b[38;5;28;01mraise\u001b[39;00m \u001b[38;5;167;01mException\u001b[39;00m(\n\u001b[0;32m    115\u001b[0m         \u001b[38;5;124mf\u001b[39m\u001b[38;5;124m\"\u001b[39m\u001b[38;5;124mResponse status code is not 200. Response Status is \u001b[39m\u001b[38;5;132;01m{\u001b[39;00mresp\u001b[38;5;241m.\u001b[39mstatus_code\u001b[38;5;132;01m}\u001b[39;00m\u001b[38;5;124m\"\u001b[39m\n\u001b[0;32m    116\u001b[0m     )\n\u001b[0;32m    117\u001b[0m snim0e \u001b[38;5;241m=\u001b[39m re\u001b[38;5;241m.\u001b[39msearch(\u001b[38;5;124mr\u001b[39m\u001b[38;5;124m\"\u001b[39m\u001b[38;5;124mSNlM0e\u001b[39m\u001b[38;5;130;01m\\\"\u001b[39;00m\u001b[38;5;124m:\u001b[39m\u001b[38;5;130;01m\\\"\u001b[39;00m\u001b[38;5;124m(.*?)\u001b[39m\u001b[38;5;130;01m\\\"\u001b[39;00m\u001b[38;5;124m\"\u001b[39m, resp\u001b[38;5;241m.\u001b[39mtext)\n\u001b[0;32m    118\u001b[0m \u001b[38;5;28;01mif\u001b[39;00m \u001b[38;5;129;01mnot\u001b[39;00m snim0e:\n",
      "\u001b[1;31mException\u001b[0m: Response status code is not 200. Response Status is 404"
     ]
    }
   ],
   "source": [
    "res = await distance_set_mrt(\"What is the capital of Spain?\", models[9])\n",
    "print(res)"
   ]
  }
 ],
 "metadata": {
  "kernelspec": {
   "display_name": "Python 3",
   "language": "python",
   "name": "python3"
  },
  "language_info": {
   "codemirror_mode": {
    "name": "ipython",
    "version": 3
   },
   "file_extension": ".py",
   "mimetype": "text/x-python",
   "name": "python",
   "nbconvert_exporter": "python",
   "pygments_lexer": "ipython3",
   "version": "3.9.13"
  }
 },
 "nbformat": 4,
 "nbformat_minor": 2
}
