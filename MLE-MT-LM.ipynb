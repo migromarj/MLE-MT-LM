{
 "cells": [
  {
   "cell_type": "code",
   "execution_count": 1,
   "metadata": {},
   "outputs": [
    {
     "name": "stderr",
     "output_type": "stream",
     "text": [
      "c:\\Users\\tcame\\AppData\\Local\\Programs\\Python\\Python39\\lib\\site-packages\\gensim\\similarities\\__init__.py:15: UserWarning: The gensim.similarities.levenshtein submodule is disabled, because the optional Levenshtein package <https://pypi.org/project/python-Levenshtein/> is unavailable. Install Levenhstein (e.g. `pip install python-Levenshtein`) to suppress this warning.\n",
      "  warnings.warn(msg)\n",
      "[nltk_data] Downloading package punkt to\n",
      "[nltk_data]     C:\\Users\\tcame\\AppData\\Roaming\\nltk_data...\n",
      "[nltk_data]   Package punkt is already up-to-date!\n"
     ]
    },
    {
     "data": {
      "text/plain": [
       "True"
      ]
     },
     "execution_count": 1,
     "metadata": {},
     "output_type": "execute_result"
    }
   ],
   "source": [
    "from dotenv import load_dotenv\n",
    "import nltk\n",
    "from functions.metamorphic import calculate_M_ASR\n",
    "from functions.perturbations import delete_characters\n",
    "from functions.models import request_to_bing\n",
    "import pandas as pd\n",
    "\n",
    "nltk.download('punkt')\n",
    "load_dotenv()"
   ]
  },
  {
   "cell_type": "code",
   "execution_count": 2,
   "metadata": {},
   "outputs": [
    {
     "name": "stdout",
     "output_type": "stream",
     "text": [
      "1CkmLX6cdRTuhpc4_ChCQlb1X-eeTECMDc7LOWs_SRy92TJttR11Aeknfqrk0W3Z0SevXjBDR3PWdhjpPYWEJgKDKla0F0Ymv_vqzefpnYMwzRD6fm_mP5lnUkiri07YbPyMZAOz7YmWNAt2TyGJY8-UqNeID3apDSEe9L9rqA3WOUK24IOcZ3tIndc7GsxwC5lDNFNld35gLfuweFELMLg\n"
     ]
    }
   ],
   "source": [
    "import os\n",
    "print(os.getenv(\"BING_U_COOKIE\"))"
   ]
  },
  {
   "cell_type": "code",
   "execution_count": 3,
   "metadata": {},
   "outputs": [],
   "source": [
    "from functions.perturbations import add_characters, add_random_words, remplace_named_entities, replace_characters, replace_words_with_antonyms, replace_words_with_synonyms\n",
    "\n",
    "\n",
    "models = [\n",
    "    ('summarize', 'facebook/bart-large-cnn'),\n",
    "    ('summarize', 'google/pegasus-large'),\n",
    "    ('summarize', 'marianna13/flan-t5-base-summarization'),\n",
    "    ('toxic', 's-nlp/roberta_toxicity_classifier'),\n",
    "    ('toxic', 'citizenlab/distilbert-base-multilingual-cased-toxicity', 'inputs'),\n",
    "    ('toxic', 'martin-ha/toxic-comment-model'),\n",
    "    ('spam', 'rafacost/bert_base_pt_en_cased_email_spam'),\n",
    "    ('spam', 'h-e-l-l-o/email-spam-classification-merged'),\n",
    "    ('spam', 'dima806/email-spam-detection-roberta'),\n",
    "    ('translate', 't5-base'),\n",
    "    ('translate', 'allenai/wmt16-en-de-12-1'),\n",
    "    ('translate', 'facebook/wmt19-en-de'),\n",
    "    ('fillmask', 'bert-base-uncased', '[MASK]'),\n",
    "    ('fillmask', 'vinai/bertweet-base', '<mask>'),\n",
    "    ('fillmask', 'roberta-base', '<mask>'),\n",
    "]\n",
    "\n",
    "\n",
    "#models_to_use = [models[i] for i in [0,1,3,4,6,7,9,10,13,14]]\n",
    "models_to_use = [models[3], models[4]]\n",
    "perturbations = [(delete_characters, False, 'delete_characters'), (replace_characters, False, 'replace_characters'), (add_characters, False, 'add_characters'),(replace_words_with_synonyms, False, 'replace_word_synonyms'), (replace_words_with_antonyms, True,'replace_word_antonyms'), (add_random_words, False,'add_random_words'), (remplace_named_entities, False,'remplace_named_entities')]\n",
    "atribbutes = [\"Robustness\", \"Non-determinism\", \"Fairness\"]\n"
   ]
  },
  {
   "cell_type": "code",
   "execution_count": 4,
   "metadata": {},
   "outputs": [
    {
     "ename": "CreateConversationException",
     "evalue": "Failed to create conversation, received status: 404",
     "output_type": "error",
     "traceback": [
      "\u001b[1;31m---------------------------------------------------------------------------\u001b[0m",
      "\u001b[1;31mCreateConversationException\u001b[0m               Traceback (most recent call last)",
      "Cell \u001b[1;32mIn[4], line 1\u001b[0m\n\u001b[1;32m----> 1\u001b[0m \u001b[38;5;28mprint\u001b[39m(\u001b[38;5;28;01mawait\u001b[39;00m request_to_bing(\u001b[38;5;124m\"\u001b[39m\u001b[38;5;124mWhat is the capital of Spain?\u001b[39m\u001b[38;5;124m\"\u001b[39m))\n",
      "File \u001b[1;32mc:\\Users\\tcame\\OneDrive\\Escritorio\\UNIVERSDAD\\Master\\MLN\\Trabajo\\MLE-MT-LM\\functions\\models.py:84\u001b[0m, in \u001b[0;36mrequest_to_bing\u001b[1;34m(first_question, second_question, type, prompt)\u001b[0m\n\u001b[0;32m     82\u001b[0m         response \u001b[38;5;241m=\u001b[39m \u001b[38;5;28;01mawait\u001b[39;00m sydney1\u001b[38;5;241m.\u001b[39mask(prompt \u001b[38;5;241m+\u001b[39m first_question \u001b[38;5;241m+\u001b[39m \u001b[38;5;124m\"\u001b[39m\u001b[38;5;130;01m\\n\u001b[39;00m\u001b[38;5;124m\"\u001b[39m \u001b[38;5;241m+\u001b[39m second_question, citations\u001b[38;5;241m=\u001b[39m\u001b[38;5;28;01mFalse\u001b[39;00m)\n\u001b[0;32m     83\u001b[0m \u001b[38;5;28;01melse\u001b[39;00m:\n\u001b[1;32m---> 84\u001b[0m     \u001b[38;5;28;01masync\u001b[39;00m \u001b[38;5;28;01mwith\u001b[39;00m SydneyClient(style\u001b[38;5;241m=\u001b[39m\u001b[38;5;124m\"\u001b[39m\u001b[38;5;124mprecise\u001b[39m\u001b[38;5;124m\"\u001b[39m) \u001b[38;5;28;01mas\u001b[39;00m sydney2:\n\u001b[0;32m     85\u001b[0m         response \u001b[38;5;241m=\u001b[39m \u001b[38;5;28;01mawait\u001b[39;00m sydney2\u001b[38;5;241m.\u001b[39mask(prompt \u001b[38;5;241m+\u001b[39m first_question, citations\u001b[38;5;241m=\u001b[39m\u001b[38;5;28;01mFalse\u001b[39;00m)\n\u001b[0;32m     87\u001b[0m response \u001b[38;5;241m=\u001b[39m convert_to_plain_text(response)\n",
      "File \u001b[1;32mc:\\Users\\tcame\\AppData\\Local\\Programs\\Python\\Python39\\lib\\site-packages\\sydney\\sydney.py:93\u001b[0m, in \u001b[0;36mSydneyClient.__aenter__\u001b[1;34m(self)\u001b[0m\n\u001b[0;32m     92\u001b[0m \u001b[38;5;28;01masync\u001b[39;00m \u001b[38;5;28;01mdef\u001b[39;00m \u001b[38;5;21m__aenter__\u001b[39m(\u001b[38;5;28mself\u001b[39m) \u001b[38;5;241m-\u001b[39m\u001b[38;5;241m>\u001b[39m SydneyClient:\n\u001b[1;32m---> 93\u001b[0m     \u001b[38;5;28;01mawait\u001b[39;00m \u001b[38;5;28mself\u001b[39m\u001b[38;5;241m.\u001b[39mstart_conversation()\n\u001b[0;32m     94\u001b[0m     \u001b[38;5;28;01mreturn\u001b[39;00m \u001b[38;5;28mself\u001b[39m\n",
      "File \u001b[1;32mc:\\Users\\tcame\\AppData\\Local\\Programs\\Python\\Python39\\lib\\site-packages\\sydney\\sydney.py:427\u001b[0m, in \u001b[0;36mSydneyClient.start_conversation\u001b[1;34m(self)\u001b[0m\n\u001b[0;32m    425\u001b[0m \u001b[38;5;28;01masync\u001b[39;00m \u001b[38;5;28;01mwith\u001b[39;00m session\u001b[38;5;241m.\u001b[39mget(BING_CREATE_CONVERSATION_URL) \u001b[38;5;28;01mas\u001b[39;00m response:\n\u001b[0;32m    426\u001b[0m     \u001b[38;5;28;01mif\u001b[39;00m response\u001b[38;5;241m.\u001b[39mstatus \u001b[38;5;241m!=\u001b[39m \u001b[38;5;241m200\u001b[39m:\n\u001b[1;32m--> 427\u001b[0m         \u001b[38;5;28;01mraise\u001b[39;00m CreateConversationException(\n\u001b[0;32m    428\u001b[0m             \u001b[38;5;124mf\u001b[39m\u001b[38;5;124m\"\u001b[39m\u001b[38;5;124mFailed to create conversation, received status: \u001b[39m\u001b[38;5;132;01m{\u001b[39;00mresponse\u001b[38;5;241m.\u001b[39mstatus\u001b[38;5;132;01m}\u001b[39;00m\u001b[38;5;124m\"\u001b[39m\n\u001b[0;32m    429\u001b[0m         )\n\u001b[0;32m    431\u001b[0m     response_dict \u001b[38;5;241m=\u001b[39m \u001b[38;5;28;01mawait\u001b[39;00m response\u001b[38;5;241m.\u001b[39mjson()\n\u001b[0;32m    432\u001b[0m     \u001b[38;5;28;01mif\u001b[39;00m response_dict[\u001b[38;5;124m\"\u001b[39m\u001b[38;5;124mresult\u001b[39m\u001b[38;5;124m\"\u001b[39m][\u001b[38;5;124m\"\u001b[39m\u001b[38;5;124mvalue\u001b[39m\u001b[38;5;124m\"\u001b[39m] \u001b[38;5;241m!=\u001b[39m \u001b[38;5;124m\"\u001b[39m\u001b[38;5;124mSuccess\u001b[39m\u001b[38;5;124m\"\u001b[39m:\n",
      "\u001b[1;31mCreateConversationException\u001b[0m: Failed to create conversation, received status: 404"
     ]
    }
   ],
   "source": [
    "print(await request_to_bing(\"What is the capital of Spain?\"))"
   ]
  },
  {
   "cell_type": "code",
   "execution_count": 5,
   "metadata": {},
   "outputs": [],
   "source": [
    "RESULT = pd.DataFrame(columns=[\"Value\", \"Time\"])"
   ]
  },
  {
   "cell_type": "code",
   "execution_count": 7,
   "metadata": {},
   "outputs": [
    {
     "name": "stdout",
     "output_type": "stream",
     "text": [
      "Model: facebook/bart-large-cnn, Perturbation: delete_characters, Attribute: Robustness\n"
     ]
    },
    {
     "name": "stdout",
     "output_type": "stream",
     "text": [
      "Model: facebook/bart-large-cnn, Perturbation: delete_characters, Attribute: Non-determinism\n"
     ]
    },
    {
     "ename": "CreateConversationException",
     "evalue": "Failed to create conversation, received status: 404",
     "output_type": "error",
     "traceback": [
      "\u001b[1;31m---------------------------------------------------------------------------\u001b[0m",
      "\u001b[1;31mCreateConversationException\u001b[0m               Traceback (most recent call last)",
      "Cell \u001b[1;32mIn[7], line 7\u001b[0m\n\u001b[0;32m      5\u001b[0m \u001b[38;5;28;01mfor\u001b[39;00m a \u001b[38;5;129;01min\u001b[39;00m new_a:\n\u001b[0;32m      6\u001b[0m     \u001b[38;5;28mprint\u001b[39m(\u001b[38;5;124mf\u001b[39m\u001b[38;5;124m\"\u001b[39m\u001b[38;5;124mModel: \u001b[39m\u001b[38;5;132;01m{\u001b[39;00mm[\u001b[38;5;241m1\u001b[39m]\u001b[38;5;132;01m}\u001b[39;00m\u001b[38;5;124m, Perturbation: \u001b[39m\u001b[38;5;132;01m{\u001b[39;00mp[\u001b[38;5;241m0\u001b[39m]\u001b[38;5;241m.\u001b[39m\u001b[38;5;18m__name__\u001b[39m\u001b[38;5;132;01m}\u001b[39;00m\u001b[38;5;124m, Attribute: \u001b[39m\u001b[38;5;132;01m{\u001b[39;00ma\u001b[38;5;132;01m}\u001b[39;00m\u001b[38;5;124m\"\u001b[39m)\n\u001b[1;32m----> 7\u001b[0m     result \u001b[38;5;241m=\u001b[39m \u001b[38;5;28;01mawait\u001b[39;00m calculate_M_ASR(m, p[\u001b[38;5;241m0\u001b[39m], a, p[\u001b[38;5;241m2\u001b[39m],change_meaning\u001b[38;5;241m=\u001b[39mp[\u001b[38;5;241m1\u001b[39m], iterations\u001b[38;5;241m=\u001b[39m\u001b[38;5;241m1\u001b[39m)\n\u001b[0;32m      8\u001b[0m     RESULT\u001b[38;5;241m.\u001b[39mloc[m[\u001b[38;5;241m1\u001b[39m] \u001b[38;5;241m+\u001b[39m \u001b[38;5;124m\"\u001b[39m\u001b[38;5;124m - \u001b[39m\u001b[38;5;124m\"\u001b[39m \u001b[38;5;241m+\u001b[39m p[\u001b[38;5;241m0\u001b[39m]\u001b[38;5;241m.\u001b[39m\u001b[38;5;18m__name__\u001b[39m \u001b[38;5;241m+\u001b[39m \u001b[38;5;124m\"\u001b[39m\u001b[38;5;124m - \u001b[39m\u001b[38;5;124m\"\u001b[39m \u001b[38;5;241m+\u001b[39m a] \u001b[38;5;241m=\u001b[39m (result[\u001b[38;5;241m0\u001b[39m], result[\u001b[38;5;241m1\u001b[39m])\n",
      "File \u001b[1;32mc:\\Users\\tcame\\OneDrive\\Escritorio\\UNIVERSDAD\\Master\\MLN\\Trabajo\\MLE-MT-LM\\functions\\metamorphic.py:199\u001b[0m, in \u001b[0;36mcalculate_M_ASR\u001b[1;34m(model, disturbation_func, quality_attribute, perturbance, change_meaning, iterations)\u001b[0m\n\u001b[0;32m    196\u001b[0m     evaluated_relations \u001b[38;5;241m+\u001b[39m\u001b[38;5;241m=\u001b[39m \u001b[38;5;241m1\u001b[39m\n\u001b[0;32m    198\u001b[0m \u001b[38;5;28;01melif\u001b[39;00m ( quality_attribute \u001b[38;5;241m==\u001b[39m \u001b[38;5;124m'\u001b[39m\u001b[38;5;124mNon-determinism\u001b[39m\u001b[38;5;124m'\u001b[39m):\n\u001b[1;32m--> 199\u001b[0m     fulfilled_relations \u001b[38;5;241m+\u001b[39m\u001b[38;5;241m=\u001b[39m \u001b[38;5;28;01mawait\u001b[39;00m distance_set_mrt(model, text, perturbance)\n\u001b[0;32m    200\u001b[0m     evaluated_relations \u001b[38;5;241m+\u001b[39m\u001b[38;5;241m=\u001b[39m \u001b[38;5;241m1\u001b[39m\n\u001b[0;32m    201\u001b[0m \u001b[38;5;28;01melse\u001b[39;00m:\n",
      "File \u001b[1;32mc:\\Users\\tcame\\OneDrive\\Escritorio\\UNIVERSDAD\\Master\\MLN\\Trabajo\\MLE-MT-LM\\functions\\metamorphic.py:75\u001b[0m, in \u001b[0;36mdistance_set_mrt\u001b[1;34m(model, original_input, perturbance, threshold)\u001b[0m\n\u001b[0;32m     73\u001b[0m \u001b[38;5;28;01melif\u001b[39;00m (model[\u001b[38;5;241m0\u001b[39m] \u001b[38;5;241m==\u001b[39m \u001b[38;5;124m'\u001b[39m\u001b[38;5;124mtranslate\u001b[39m\u001b[38;5;124m'\u001b[39m \u001b[38;5;129;01mor\u001b[39;00m model[\u001b[38;5;241m0\u001b[39m] \u001b[38;5;241m==\u001b[39m \u001b[38;5;124m'\u001b[39m\u001b[38;5;124msummarize\u001b[39m\u001b[38;5;124m'\u001b[39m \u001b[38;5;129;01mor\u001b[39;00m model[\u001b[38;5;241m0\u001b[39m] \u001b[38;5;241m==\u001b[39m \u001b[38;5;124m'\u001b[39m\u001b[38;5;124mq&a\u001b[39m\u001b[38;5;124m'\u001b[39m):\n\u001b[0;32m     74\u001b[0m     output_1 \u001b[38;5;241m=\u001b[39m request_to_model(model, original_input)\n\u001b[1;32m---> 75\u001b[0m     output_2 \u001b[38;5;241m=\u001b[39m \u001b[38;5;28;01mawait\u001b[39;00m request_to_bing(original_input, \u001b[38;5;28mtype\u001b[39m\u001b[38;5;241m=\u001b[39mperturbance)\n\u001b[0;32m     77\u001b[0m     similarity_metric_1_2 \u001b[38;5;241m=\u001b[39m \u001b[38;5;28;01mawait\u001b[39;00m get_distance_answers(output_1, output_2, \u001b[38;5;241m0\u001b[39m)\n\u001b[0;32m     78\u001b[0m     \u001b[38;5;28;01mreturn\u001b[39;00m similarity_metric_1_2 \u001b[38;5;241m>\u001b[39m threshold\n",
      "File \u001b[1;32mc:\\Users\\tcame\\OneDrive\\Escritorio\\UNIVERSDAD\\Master\\MLN\\Trabajo\\MLE-MT-LM\\functions\\models.py:84\u001b[0m, in \u001b[0;36mrequest_to_bing\u001b[1;34m(first_question, second_question, type, prompt)\u001b[0m\n\u001b[0;32m     82\u001b[0m         response \u001b[38;5;241m=\u001b[39m \u001b[38;5;28;01mawait\u001b[39;00m sydney1\u001b[38;5;241m.\u001b[39mask(prompt \u001b[38;5;241m+\u001b[39m first_question \u001b[38;5;241m+\u001b[39m \u001b[38;5;124m\"\u001b[39m\u001b[38;5;130;01m\\n\u001b[39;00m\u001b[38;5;124m\"\u001b[39m \u001b[38;5;241m+\u001b[39m second_question, citations\u001b[38;5;241m=\u001b[39m\u001b[38;5;28;01mFalse\u001b[39;00m)\n\u001b[0;32m     83\u001b[0m \u001b[38;5;28;01melse\u001b[39;00m:\n\u001b[1;32m---> 84\u001b[0m     \u001b[38;5;28;01masync\u001b[39;00m \u001b[38;5;28;01mwith\u001b[39;00m SydneyClient(style\u001b[38;5;241m=\u001b[39m\u001b[38;5;124m\"\u001b[39m\u001b[38;5;124mprecise\u001b[39m\u001b[38;5;124m\"\u001b[39m) \u001b[38;5;28;01mas\u001b[39;00m sydney2:\n\u001b[0;32m     85\u001b[0m         response \u001b[38;5;241m=\u001b[39m \u001b[38;5;28;01mawait\u001b[39;00m sydney2\u001b[38;5;241m.\u001b[39mask(prompt \u001b[38;5;241m+\u001b[39m first_question, citations\u001b[38;5;241m=\u001b[39m\u001b[38;5;28;01mFalse\u001b[39;00m)\n\u001b[0;32m     87\u001b[0m response \u001b[38;5;241m=\u001b[39m convert_to_plain_text(response)\n",
      "File \u001b[1;32mc:\\Users\\tcame\\AppData\\Local\\Programs\\Python\\Python39\\lib\\site-packages\\sydney\\sydney.py:93\u001b[0m, in \u001b[0;36mSydneyClient.__aenter__\u001b[1;34m(self)\u001b[0m\n\u001b[0;32m     92\u001b[0m \u001b[38;5;28;01masync\u001b[39;00m \u001b[38;5;28;01mdef\u001b[39;00m \u001b[38;5;21m__aenter__\u001b[39m(\u001b[38;5;28mself\u001b[39m) \u001b[38;5;241m-\u001b[39m\u001b[38;5;241m>\u001b[39m SydneyClient:\n\u001b[1;32m---> 93\u001b[0m     \u001b[38;5;28;01mawait\u001b[39;00m \u001b[38;5;28mself\u001b[39m\u001b[38;5;241m.\u001b[39mstart_conversation()\n\u001b[0;32m     94\u001b[0m     \u001b[38;5;28;01mreturn\u001b[39;00m \u001b[38;5;28mself\u001b[39m\n",
      "File \u001b[1;32mc:\\Users\\tcame\\AppData\\Local\\Programs\\Python\\Python39\\lib\\site-packages\\sydney\\sydney.py:427\u001b[0m, in \u001b[0;36mSydneyClient.start_conversation\u001b[1;34m(self)\u001b[0m\n\u001b[0;32m    425\u001b[0m \u001b[38;5;28;01masync\u001b[39;00m \u001b[38;5;28;01mwith\u001b[39;00m session\u001b[38;5;241m.\u001b[39mget(BING_CREATE_CONVERSATION_URL) \u001b[38;5;28;01mas\u001b[39;00m response:\n\u001b[0;32m    426\u001b[0m     \u001b[38;5;28;01mif\u001b[39;00m response\u001b[38;5;241m.\u001b[39mstatus \u001b[38;5;241m!=\u001b[39m \u001b[38;5;241m200\u001b[39m:\n\u001b[1;32m--> 427\u001b[0m         \u001b[38;5;28;01mraise\u001b[39;00m CreateConversationException(\n\u001b[0;32m    428\u001b[0m             \u001b[38;5;124mf\u001b[39m\u001b[38;5;124m\"\u001b[39m\u001b[38;5;124mFailed to create conversation, received status: \u001b[39m\u001b[38;5;132;01m{\u001b[39;00mresponse\u001b[38;5;241m.\u001b[39mstatus\u001b[38;5;132;01m}\u001b[39;00m\u001b[38;5;124m\"\u001b[39m\n\u001b[0;32m    429\u001b[0m         )\n\u001b[0;32m    431\u001b[0m     response_dict \u001b[38;5;241m=\u001b[39m \u001b[38;5;28;01mawait\u001b[39;00m response\u001b[38;5;241m.\u001b[39mjson()\n\u001b[0;32m    432\u001b[0m     \u001b[38;5;28;01mif\u001b[39;00m response_dict[\u001b[38;5;124m\"\u001b[39m\u001b[38;5;124mresult\u001b[39m\u001b[38;5;124m\"\u001b[39m][\u001b[38;5;124m\"\u001b[39m\u001b[38;5;124mvalue\u001b[39m\u001b[38;5;124m\"\u001b[39m] \u001b[38;5;241m!=\u001b[39m \u001b[38;5;124m\"\u001b[39m\u001b[38;5;124mSuccess\u001b[39m\u001b[38;5;124m\"\u001b[39m:\n",
      "\u001b[1;31mCreateConversationException\u001b[0m: Failed to create conversation, received status: 404"
     ]
    }
   ],
   "source": [
    "for m in models_to_use:\n",
    "    m_type = m[0]\n",
    "    for p in perturbations:\n",
    "        new_a = atribbutes.copy() if m_type != \"summarize\" else atribbutes.copy()[:-1]\n",
    "        for a in new_a:\n",
    "            print(f\"Model: {m[1]}, Perturbation: {p[0].__name__}, Attribute: {a}\")\n",
    "            result = await calculate_M_ASR(m, p[0], a, p[2],change_meaning=p[1], iterations=1)\n",
    "            RESULT.loc[m[1] + \" - \" + p[0].__name__ + \" - \" + a] = (result[0], result[1])"
   ]
  },
  {
   "cell_type": "code",
   "execution_count": null,
   "metadata": {},
   "outputs": [
    {
     "data": {
      "text/html": [
       "<div>\n",
       "<style scoped>\n",
       "    .dataframe tbody tr th:only-of-type {\n",
       "        vertical-align: middle;\n",
       "    }\n",
       "\n",
       "    .dataframe tbody tr th {\n",
       "        vertical-align: top;\n",
       "    }\n",
       "\n",
       "    .dataframe thead th {\n",
       "        text-align: right;\n",
       "    }\n",
       "</style>\n",
       "<table border=\"1\" class=\"dataframe\">\n",
       "  <thead>\n",
       "    <tr style=\"text-align: right;\">\n",
       "      <th></th>\n",
       "      <th>Value</th>\n",
       "      <th>Time</th>\n",
       "    </tr>\n",
       "  </thead>\n",
       "  <tbody>\n",
       "    <tr>\n",
       "      <th>facebook/bart-large-cnnreplace_words_with_synonymsRobustness</th>\n",
       "      <td>1.0</td>\n",
       "      <td>20.371653</td>\n",
       "    </tr>\n",
       "    <tr>\n",
       "      <th>facebook/bart-large-cnnreplace_words_with_synonymsNon-determinism</th>\n",
       "      <td>0.0</td>\n",
       "      <td>27.912510</td>\n",
       "    </tr>\n",
       "    <tr>\n",
       "      <th>facebook/bart-large-cnnreplace_words_with_antonymsRobustness</th>\n",
       "      <td>0.0</td>\n",
       "      <td>24.064058</td>\n",
       "    </tr>\n",
       "    <tr>\n",
       "      <th>facebook/bart-large-cnnreplace_words_with_antonymsNon-determinism</th>\n",
       "      <td>0.0</td>\n",
       "      <td>33.926454</td>\n",
       "    </tr>\n",
       "    <tr>\n",
       "      <th>facebook/bart-large-cnnadd_random_wordsRobustness</th>\n",
       "      <td>1.0</td>\n",
       "      <td>13.507064</td>\n",
       "    </tr>\n",
       "    <tr>\n",
       "      <th>facebook/bart-large-cnnadd_random_wordsNon-determinism</th>\n",
       "      <td>1.0</td>\n",
       "      <td>31.012608</td>\n",
       "    </tr>\n",
       "    <tr>\n",
       "      <th>facebook/bart-large-cnnremplace_named_entitiesRobustness</th>\n",
       "      <td>1.0</td>\n",
       "      <td>17.057602</td>\n",
       "    </tr>\n",
       "    <tr>\n",
       "      <th>facebook/bart-large-cnnremplace_named_entitiesNon-determinism</th>\n",
       "      <td>0.0</td>\n",
       "      <td>24.824081</td>\n",
       "    </tr>\n",
       "    <tr>\n",
       "      <th>google/pegasus-largereplace_words_with_synonymsRobustness</th>\n",
       "      <td>0.0</td>\n",
       "      <td>10.492673</td>\n",
       "    </tr>\n",
       "    <tr>\n",
       "      <th>google/pegasus-largereplace_words_with_synonymsNon-determinism</th>\n",
       "      <td>1.0</td>\n",
       "      <td>21.701400</td>\n",
       "    </tr>\n",
       "    <tr>\n",
       "      <th>google/pegasus-largereplace_words_with_antonymsRobustness</th>\n",
       "      <td>1.0</td>\n",
       "      <td>13.577336</td>\n",
       "    </tr>\n",
       "    <tr>\n",
       "      <th>google/pegasus-largereplace_words_with_antonymsNon-determinism</th>\n",
       "      <td>1.0</td>\n",
       "      <td>45.148608</td>\n",
       "    </tr>\n",
       "    <tr>\n",
       "      <th>google/pegasus-largeadd_random_wordsRobustness</th>\n",
       "      <td>1.0</td>\n",
       "      <td>21.678175</td>\n",
       "    </tr>\n",
       "    <tr>\n",
       "      <th>google/pegasus-largeadd_random_wordsNon-determinism</th>\n",
       "      <td>0.0</td>\n",
       "      <td>26.330565</td>\n",
       "    </tr>\n",
       "    <tr>\n",
       "      <th>google/pegasus-largeremplace_named_entitiesRobustness</th>\n",
       "      <td>1.0</td>\n",
       "      <td>14.366951</td>\n",
       "    </tr>\n",
       "    <tr>\n",
       "      <th>google/pegasus-largeremplace_named_entitiesNon-determinism</th>\n",
       "      <td>0.0</td>\n",
       "      <td>23.636163</td>\n",
       "    </tr>\n",
       "  </tbody>\n",
       "</table>\n",
       "</div>"
      ],
      "text/plain": [
       "                                                    Value       Time\n",
       "facebook/bart-large-cnnreplace_words_with_synon...    1.0  20.371653\n",
       "facebook/bart-large-cnnreplace_words_with_synon...    0.0  27.912510\n",
       "facebook/bart-large-cnnreplace_words_with_anton...    0.0  24.064058\n",
       "facebook/bart-large-cnnreplace_words_with_anton...    0.0  33.926454\n",
       "facebook/bart-large-cnnadd_random_wordsRobustness     1.0  13.507064\n",
       "facebook/bart-large-cnnadd_random_wordsNon-dete...    1.0  31.012608\n",
       "facebook/bart-large-cnnremplace_named_entitiesR...    1.0  17.057602\n",
       "facebook/bart-large-cnnremplace_named_entitiesN...    0.0  24.824081\n",
       "google/pegasus-largereplace_words_with_synonyms...    0.0  10.492673\n",
       "google/pegasus-largereplace_words_with_synonyms...    1.0  21.701400\n",
       "google/pegasus-largereplace_words_with_antonyms...    1.0  13.577336\n",
       "google/pegasus-largereplace_words_with_antonyms...    1.0  45.148608\n",
       "google/pegasus-largeadd_random_wordsRobustness        1.0  21.678175\n",
       "google/pegasus-largeadd_random_wordsNon-determi...    0.0  26.330565\n",
       "google/pegasus-largeremplace_named_entitiesRobu...    1.0  14.366951\n",
       "google/pegasus-largeremplace_named_entitiesNon-...    0.0  23.636163"
      ]
     },
     "execution_count": 5,
     "metadata": {},
     "output_type": "execute_result"
    }
   ],
   "source": [
    "RESULT"
   ]
  }
 ],
 "metadata": {
  "kernelspec": {
   "display_name": "Python 3",
   "language": "python",
   "name": "python3"
  },
  "language_info": {
   "codemirror_mode": {
    "name": "ipython",
    "version": 3
   },
   "file_extension": ".py",
   "mimetype": "text/x-python",
   "name": "python",
   "nbconvert_exporter": "python",
   "pygments_lexer": "ipython3",
   "version": "3.9.13"
  }
 },
 "nbformat": 4,
 "nbformat_minor": 2
}
